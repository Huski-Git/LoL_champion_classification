{
 "cells": [
  {
   "cell_type": "code",
   "execution_count": 1,
   "metadata": {
    "ExecuteTime": {
     "end_time": "2020-04-03T11:25:51.897476Z",
     "start_time": "2020-04-03T11:25:51.194511Z"
    }
   },
   "outputs": [],
   "source": [
    "from selenium import webdriver\n",
    "from bs4 import BeautifulSoup\n",
    "import requests\n",
    "import pandas as pd\n",
    "import time\n",
    "from selenium.webdriver.common.action_chains import ActionChains\n",
    "from tqdm.notebook import tqdm\n",
    "import pickle"
   ]
  },
  {
   "cell_type": "code",
   "execution_count": 2,
   "metadata": {
    "ExecuteTime": {
     "end_time": "2020-04-03T11:25:52.720927Z",
     "start_time": "2020-04-03T11:25:52.216944Z"
    }
   },
   "outputs": [],
   "source": [
    "url='https://leagueoflegends.fandom.com/wiki/List_of_champions'\n",
    "r=requests.get(url)\n",
    "soup=BeautifulSoup(r.text,'html.parser')"
   ]
  },
  {
   "cell_type": "code",
   "execution_count": 3,
   "metadata": {
    "ExecuteTime": {
     "end_time": "2020-04-03T11:25:54.605624Z",
     "start_time": "2020-04-03T11:25:54.557140Z"
    },
    "code_folding": []
   },
   "outputs": [
    {
     "data": {
      "text/plain": [
       "['Aatrox',\n",
       " 'Ahri',\n",
       " 'Akali',\n",
       " 'Alistar',\n",
       " 'Amumu',\n",
       " 'Anivia',\n",
       " 'Annie',\n",
       " 'Aphelios',\n",
       " 'Ashe',\n",
       " 'Aurelion Sol',\n",
       " 'Azir',\n",
       " 'Bard',\n",
       " 'Blitzcrank',\n",
       " 'Brand',\n",
       " 'Braum',\n",
       " 'Caitlyn',\n",
       " 'Camille',\n",
       " 'Cassiopeia',\n",
       " \"Cho'Gath\",\n",
       " 'Corki',\n",
       " 'Darius',\n",
       " 'Diana',\n",
       " 'Dr. Mundo',\n",
       " 'Draven',\n",
       " 'Ekko',\n",
       " 'Elise',\n",
       " 'Evelynn',\n",
       " 'Ezreal',\n",
       " 'Fiddlesticks',\n",
       " 'Fiora',\n",
       " 'Fizz',\n",
       " 'Galio',\n",
       " 'Gangplank',\n",
       " 'Garen',\n",
       " 'Gnar',\n",
       " 'Gragas',\n",
       " 'Graves',\n",
       " 'Hecarim',\n",
       " 'Heimerdinger',\n",
       " 'Illaoi',\n",
       " 'Irelia',\n",
       " 'Ivern',\n",
       " 'Janna',\n",
       " 'Jarvan IV',\n",
       " 'Jax',\n",
       " 'Jayce',\n",
       " 'Jhin',\n",
       " 'Jinx',\n",
       " \"Kai'Sa\",\n",
       " 'Kalista',\n",
       " 'Karma',\n",
       " 'Karthus',\n",
       " 'Kassadin',\n",
       " 'Katarina',\n",
       " 'Kayle',\n",
       " 'Kayn',\n",
       " 'Kennen',\n",
       " \"Kha'Zix\",\n",
       " 'Kindred',\n",
       " 'Kled',\n",
       " \"Kog'Maw\",\n",
       " 'LeBlanc',\n",
       " 'Lee Sin',\n",
       " 'Leona',\n",
       " 'Lissandra',\n",
       " 'Lucian',\n",
       " 'Lulu',\n",
       " 'Lux',\n",
       " 'Malphite',\n",
       " 'Malzahar',\n",
       " 'Maokai',\n",
       " 'Master Yi',\n",
       " 'Miss Fortune',\n",
       " 'Mordekaiser',\n",
       " 'Morgana',\n",
       " 'Nami',\n",
       " 'Nasus',\n",
       " 'Nautilus',\n",
       " 'Neeko',\n",
       " 'Nidalee',\n",
       " 'Nocturne',\n",
       " 'Nunu',\n",
       " 'Olaf',\n",
       " 'Orianna',\n",
       " 'Ornn',\n",
       " 'Pantheon',\n",
       " 'Poppy',\n",
       " 'Pyke',\n",
       " 'Qiyana',\n",
       " 'Quinn',\n",
       " 'Rakan',\n",
       " 'Rammus',\n",
       " \"Rek'Sai\",\n",
       " 'Renekton',\n",
       " 'Rengar',\n",
       " 'Riven',\n",
       " 'Rumble',\n",
       " 'Ryze',\n",
       " 'Sejuani',\n",
       " 'Senna',\n",
       " 'Sett',\n",
       " 'Shaco',\n",
       " 'Shen',\n",
       " 'Shyvana',\n",
       " 'Singed',\n",
       " 'Sion',\n",
       " 'Sivir',\n",
       " 'Skarner',\n",
       " 'Sona',\n",
       " 'Soraka',\n",
       " 'Swain',\n",
       " 'Sylas',\n",
       " 'Syndra',\n",
       " 'Tahm Kench',\n",
       " 'Taliyah',\n",
       " 'Talon',\n",
       " 'Taric',\n",
       " 'Teemo',\n",
       " 'Thresh',\n",
       " 'Tristana',\n",
       " 'Trundle',\n",
       " 'Tryndamere',\n",
       " 'Twisted Fate',\n",
       " 'Twitch',\n",
       " 'Udyr',\n",
       " 'Urgot',\n",
       " 'Varus',\n",
       " 'Vayne',\n",
       " 'Veigar',\n",
       " \"Vel'Koz\",\n",
       " 'Vi',\n",
       " 'Viktor',\n",
       " 'Vladimir',\n",
       " 'Volibear',\n",
       " 'Warwick',\n",
       " 'Wukong',\n",
       " 'Xayah',\n",
       " 'Xerath',\n",
       " 'Xin Zhao',\n",
       " 'Yasuo',\n",
       " 'Yorick',\n",
       " 'Yuumi',\n",
       " 'Zac',\n",
       " 'Zed',\n",
       " 'Ziggs',\n",
       " 'Zilean',\n",
       " 'Zoe',\n",
       " 'Zyra']"
      ]
     },
     "execution_count": 3,
     "metadata": {},
     "output_type": "execute_result"
    }
   ],
   "source": [
    "#Creating end part of each link for scraping\n",
    "\n",
    "list_of_champs=[champion.text.replace(',','').split()[:2] for champion in soup.find_all('span',attrs={'data-skin':'Original'})]\n",
    "\n",
    "two_names=['Aurelion','Dr.','Jarvan','Lee','Master','Miss','Tahm','Xin','Twisted']\n",
    "\n",
    "#Turning two worded names into 1 string\n",
    "list_of_champs=[champ[0]+' '+champ[1] if champ[0] in two_names else champ[0] for champ in list_of_champs]\n",
    "\n",
    "#Choosing only distinct champions & then alphabetizing incase there are any duplicates.\n",
    "list_of_champs=sorted(list(set(list_of_champs)))\n",
    "list_of_champs"
   ]
  },
  {
   "cell_type": "markdown",
   "metadata": {},
   "source": [
    "# Attempting with only 3 champions"
   ]
  },
  {
   "cell_type": "code",
   "execution_count": 4,
   "metadata": {
    "ExecuteTime": {
     "end_time": "2020-04-03T11:25:56.459991Z",
     "start_time": "2020-04-03T11:25:56.420423Z"
    }
   },
   "outputs": [],
   "source": [
    "#Saving the Models\n",
    "def save_pickle(element,file):\n",
    "    with open(file, 'wb') as handle:\n",
    "        pickle.dump(element, handle, protocol=pickle.HIGHEST_PROTOCOL)\n",
    "\n",
    "#Loading the models\n",
    "def load_pickle(file):\n",
    "    with open(file, 'rb') as handle:\n",
    "        return pickle.load(handle)"
   ]
  },
  {
   "cell_type": "code",
   "execution_count": 5,
   "metadata": {
    "ExecuteTime": {
     "end_time": "2020-04-03T11:26:03.753071Z",
     "start_time": "2020-04-03T11:25:58.190437Z"
    }
   },
   "outputs": [],
   "source": [
    "driver = webdriver.Chrome(executable_path='/Users/Huski/Downloads/chromedriver')\n",
    "driver.get('https://leagueoflegends.fandom.com/wiki/List_of_champions')\n",
    "\n",
    "cookies_button=driver.find_element_by_class_name('_2o0B8MF50eAK1jv60jldUQ')\n",
    "cookies_button.click()"
   ]
  },
  {
   "cell_type": "code",
   "execution_count": 7,
   "metadata": {
    "ExecuteTime": {
     "end_time": "2020-04-03T11:38:38.613307Z",
     "start_time": "2020-04-03T11:32:00.298738Z"
    }
   },
   "outputs": [
    {
     "data": {
      "application/vnd.jupyter.widget-view+json": {
       "model_id": "08a908d6ed404bdfa8faf2463b55b295",
       "version_major": 2,
       "version_minor": 0
      },
      "text/plain": [
       "HBox(children=(IntProgress(value=0, max=148), HTML(value='')))"
      ]
     },
     "metadata": {},
     "output_type": "display_data"
    },
    {
     "ename": "OSError",
     "evalue": "[Errno 63] File name too long: \"first_20_['Base AS0.651', 'Base AS0.668', 'Base AS0.625', 'Base AS0.625', 'Base AS0.736', 'Base AS0.625', 'Base AS0.579', 'Base AS0.64', 'Base AS0.658', 'Base AS0.625', 'Base AS0.625', 'Base AS0.625', 'Base AS0.625', 'Base AS0.625', 'Base AS0.644', 'Base AS0.681', 'Base AS0.644', 'Base AS0.647', 'Base AS0.625', 'Base AS0.638'].pkl\"",
     "output_type": "error",
     "traceback": [
      "\u001b[0;31m---------------------------------------------------------------------------\u001b[0m",
      "\u001b[0;31mOSError\u001b[0m                                   Traceback (most recent call last)",
      "\u001b[0;32m<ipython-input-7-cef725a040a9>\u001b[0m in \u001b[0;36m<module>\u001b[0;34m\u001b[0m\n\u001b[1;32m     79\u001b[0m     \u001b[0;32mif\u001b[0m \u001b[0mcount\u001b[0m\u001b[0;34m%\u001b[0m\u001b[0;36m20\u001b[0m\u001b[0;34m==\u001b[0m\u001b[0;36m0\u001b[0m\u001b[0;34m:\u001b[0m\u001b[0;34m\u001b[0m\u001b[0;34m\u001b[0m\u001b[0m\n\u001b[1;32m     80\u001b[0m         \u001b[0;32mfor\u001b[0m \u001b[0mstat\u001b[0m \u001b[0;32min\u001b[0m \u001b[0mall_stats\u001b[0m\u001b[0;34m:\u001b[0m\u001b[0;34m\u001b[0m\u001b[0;34m\u001b[0m\u001b[0m\n\u001b[0;32m---> 81\u001b[0;31m             \u001b[0msave_pickle\u001b[0m\u001b[0;34m(\u001b[0m\u001b[0mstat\u001b[0m\u001b[0;34m,\u001b[0m\u001b[0;34m'first_{}_{}.pkl'\u001b[0m\u001b[0;34m.\u001b[0m\u001b[0mformat\u001b[0m\u001b[0;34m(\u001b[0m\u001b[0mcount\u001b[0m\u001b[0;34m,\u001b[0m\u001b[0mstat\u001b[0m\u001b[0;34m)\u001b[0m\u001b[0;34m)\u001b[0m\u001b[0;34m\u001b[0m\u001b[0;34m\u001b[0m\u001b[0m\n\u001b[0m\u001b[1;32m     82\u001b[0m \u001b[0;34m\u001b[0m\u001b[0m\n\u001b[1;32m     83\u001b[0m     \u001b[0mdriver\u001b[0m\u001b[0;34m.\u001b[0m\u001b[0mback\u001b[0m\u001b[0;34m(\u001b[0m\u001b[0;34m)\u001b[0m\u001b[0;34m\u001b[0m\u001b[0;34m\u001b[0m\u001b[0m\n",
      "\u001b[0;32m<ipython-input-4-8de93b98a830>\u001b[0m in \u001b[0;36msave_pickle\u001b[0;34m(element, file)\u001b[0m\n\u001b[1;32m      1\u001b[0m \u001b[0;31m#Saving the Models\u001b[0m\u001b[0;34m\u001b[0m\u001b[0;34m\u001b[0m\u001b[0;34m\u001b[0m\u001b[0m\n\u001b[1;32m      2\u001b[0m \u001b[0;32mdef\u001b[0m \u001b[0msave_pickle\u001b[0m\u001b[0;34m(\u001b[0m\u001b[0melement\u001b[0m\u001b[0;34m,\u001b[0m\u001b[0mfile\u001b[0m\u001b[0;34m)\u001b[0m\u001b[0;34m:\u001b[0m\u001b[0;34m\u001b[0m\u001b[0;34m\u001b[0m\u001b[0m\n\u001b[0;32m----> 3\u001b[0;31m     \u001b[0;32mwith\u001b[0m \u001b[0mopen\u001b[0m\u001b[0;34m(\u001b[0m\u001b[0mfile\u001b[0m\u001b[0;34m,\u001b[0m \u001b[0;34m'wb'\u001b[0m\u001b[0;34m)\u001b[0m \u001b[0;32mas\u001b[0m \u001b[0mhandle\u001b[0m\u001b[0;34m:\u001b[0m\u001b[0;34m\u001b[0m\u001b[0;34m\u001b[0m\u001b[0m\n\u001b[0m\u001b[1;32m      4\u001b[0m         \u001b[0mpickle\u001b[0m\u001b[0;34m.\u001b[0m\u001b[0mdump\u001b[0m\u001b[0;34m(\u001b[0m\u001b[0melement\u001b[0m\u001b[0;34m,\u001b[0m \u001b[0mhandle\u001b[0m\u001b[0;34m,\u001b[0m \u001b[0mprotocol\u001b[0m\u001b[0;34m=\u001b[0m\u001b[0mpickle\u001b[0m\u001b[0;34m.\u001b[0m\u001b[0mHIGHEST_PROTOCOL\u001b[0m\u001b[0;34m)\u001b[0m\u001b[0;34m\u001b[0m\u001b[0;34m\u001b[0m\u001b[0m\n\u001b[1;32m      5\u001b[0m \u001b[0;34m\u001b[0m\u001b[0m\n",
      "\u001b[0;31mOSError\u001b[0m: [Errno 63] File name too long: \"first_20_['Base AS0.651', 'Base AS0.668', 'Base AS0.625', 'Base AS0.625', 'Base AS0.736', 'Base AS0.625', 'Base AS0.579', 'Base AS0.64', 'Base AS0.658', 'Base AS0.625', 'Base AS0.625', 'Base AS0.625', 'Base AS0.625', 'Base AS0.625', 'Base AS0.644', 'Base AS0.681', 'Base AS0.644', 'Base AS0.647', 'Base AS0.625', 'Base AS0.638'].pkl\""
     ]
    }
   ],
   "source": [
    "health=[]\n",
    "health_per_lvl=[]\n",
    "health_regen=[]\n",
    "health_regen_per_lvl=[]\n",
    "ad=[]\n",
    "ad_per_lvl=[]\n",
    "armor=[]\n",
    "armor_per_lvl=[]\n",
    "mr=[]\n",
    "mr_per_lvl=[]\n",
    "attack_speed=[]\n",
    "ms=[]\n",
    "atk_range=[]\n",
    "top3_attrs=[]\n",
    "\n",
    "\n",
    "lst1=[\"Cho'Gath\",\"Vel'Koz\",\"Kha'Zix\"]\n",
    "lst2=[\"Kog'Maw\",\"Rek'Sai\"]\n",
    "\n",
    "count=0\n",
    "\n",
    "for champion in tqdm(list_of_champs):\n",
    "    \n",
    "    \n",
    "    champion_button = driver.find_element_by_partial_link_text('{}'.format(champion))\n",
    "    \n",
    "    driver.execute_script(\"arguments[0].scrollIntoView();\", champion_button)\n",
    "    driver.execute_script(\"window.scrollBy(0, -100)\")\n",
    "    \n",
    "    champion_button.click()\n",
    "    \n",
    "    time.sleep(5)\n",
    "    \n",
    "    soup=BeautifulSoup(driver.page_source,'html.parser')\n",
    "    \n",
    "    attributes=[]\n",
    "    \n",
    "    for x in soup.find_all('span',attrs={'class':'glossary'})[:3]:\n",
    "        attributes.append(x.text)\n",
    "    \n",
    "    top3_attrs.append(attributes)\n",
    "    \n",
    "    \n",
    "    # Source code is very inconsistent  \n",
    "    name = champion\n",
    "    if ' ' in champion:\n",
    "        name=name.replace(' ','').replace('.','')\n",
    "    elif champion=='Kled':\n",
    "        name='Kled1'\n",
    "    elif champion in lst1:\n",
    "        name=name.replace(\"'\",'').capitalize()\n",
    "    elif champion in lst2:\n",
    "        name=name.replace(\"'\",'')\n",
    "    \n",
    "    health.append(soup.find('span',attrs={'id':\"Health_{}\".format(name)}).text)\n",
    "    health_per_lvl.append(soup.find('span',attrs={'id':\"Health_{}_lvl\".format(name)}).text)\n",
    "    health_regen.append(soup.find('span',attrs={'id':'HealthRegen_{}'.format(name)}).text)\n",
    "    health_regen_per_lvl.append(soup.find('span',attrs={'id':'HealthRegen_{}_lvl'.format(name)}).text)\n",
    "\n",
    "    ad.append(soup.find('span',attrs={'id':'AttackDamage_{}'.format(name)}).text)\n",
    "    ad_per_lvl.append(soup.find('span',attrs={'id':'AttackDamage_{}_lvl'.format(name)}).text)\n",
    "\n",
    "    armor.append(soup.find('span',attrs={'id':'Armor_{}'.format(name)}).text)\n",
    "    armor_per_lvl.append(soup.find('span',attrs={'id':'Armor_{}_lvl'.format(name)}).text)\n",
    "\n",
    "    mr.append(soup.find('span',attrs={'id':'MagicResist_{}'.format(name)}).text)\n",
    "    mr_per_lvl.append(soup.find('span',attrs={'id':'MagicResist_{}_lvl'.format(name)}).text)\n",
    "\n",
    "    attack_speed.append(soup.find('div',attrs={'data-source':'attack speed'}).text)\n",
    "\n",
    "    ms.append(soup.find('span',attrs={'id':'MovementSpeed_{}'.format(name)}).text)\n",
    "\n",
    "    atk_range.append(soup.find('span',attrs={'id':'AttackRange_{}'.format(name)}).text)\n",
    "    \n",
    "    count+=1\n",
    "    if count%20==0:\n",
    "        for stat in all_stats:\n",
    "            save_pickle(stat,'first_{}_{}.pkl'.format(count,stat))\n",
    "\n",
    "    driver.back()\n",
    "    "
   ]
  },
  {
   "cell_type": "code",
   "execution_count": 9,
   "metadata": {
    "ExecuteTime": {
     "end_time": "2020-04-03T11:40:23.013616Z",
     "start_time": "2020-04-03T11:40:22.970093Z"
    }
   },
   "outputs": [
    {
     "ename": "AttributeError",
     "evalue": "'list' object has no attribute 'str'",
     "output_type": "error",
     "traceback": [
      "\u001b[0;31m---------------------------------------------------------------------------\u001b[0m",
      "\u001b[0;31mAttributeError\u001b[0m                            Traceback (most recent call last)",
      "\u001b[0;32m<ipython-input-9-bf59d8acb1f5>\u001b[0m in \u001b[0;36m<module>\u001b[0;34m\u001b[0m\n\u001b[1;32m      1\u001b[0m \u001b[0;32mfor\u001b[0m \u001b[0mstat\u001b[0m \u001b[0;32min\u001b[0m \u001b[0mall_stats\u001b[0m\u001b[0;34m:\u001b[0m\u001b[0;34m\u001b[0m\u001b[0;34m\u001b[0m\u001b[0m\n\u001b[0;32m----> 2\u001b[0;31m     \u001b[0mprint\u001b[0m\u001b[0;34m(\u001b[0m\u001b[0mstat\u001b[0m\u001b[0;34m.\u001b[0m\u001b[0mstr\u001b[0m\u001b[0;34m(\u001b[0m\u001b[0;34m)\u001b[0m\u001b[0;34m)\u001b[0m\u001b[0;34m\u001b[0m\u001b[0;34m\u001b[0m\u001b[0m\n\u001b[0m",
      "\u001b[0;31mAttributeError\u001b[0m: 'list' object has no attribute 'str'"
     ]
    }
   ],
   "source": [
    "for stat in all_stats:\n",
    "    print()"
   ]
  },
  {
   "cell_type": "markdown",
   "metadata": {},
   "source": [
    "# Attemping with only 1 champion"
   ]
  },
  {
   "cell_type": "code",
   "execution_count": null,
   "metadata": {
    "ExecuteTime": {
     "end_time": "2020-04-02T12:14:29.955125Z",
     "start_time": "2020-04-02T12:14:18.434288Z"
    }
   },
   "outputs": [],
   "source": [
    "driver = webdriver.Chrome(executable_path='/Users/Huski/Downloads/chromedriver')\n",
    "driver.get('https://leagueoflegends.fandom.com/wiki/List_of_champions')\n",
    "\n",
    "cookies_button=driver.find_element_by_class_name('_2o0B8MF50eAK1jv60jldUQ')\n",
    "cookies_button.click()"
   ]
  },
  {
   "cell_type": "code",
   "execution_count": null,
   "metadata": {
    "ExecuteTime": {
     "end_time": "2020-04-02T12:14:34.643401Z",
     "start_time": "2020-04-02T12:14:34.577084Z"
    }
   },
   "outputs": [],
   "source": [
    "champion=\"Cho'Gath\""
   ]
  },
  {
   "cell_type": "code",
   "execution_count": null,
   "metadata": {
    "ExecuteTime": {
     "end_time": "2020-04-02T12:17:33.441398Z",
     "start_time": "2020-04-02T12:14:41.144741Z"
    }
   },
   "outputs": [],
   "source": [
    "champion_button = driver.find_element_by_partial_link_text('{}'.format(champion))\n",
    "\n",
    "time.sleep(2)\n",
    "\n",
    "driver.execute_script(\"arguments[0].scrollIntoView();\", champion_button)\n",
    "driver.execute_script(\"window.scrollBy(0, -100)\")\n",
    "\n",
    "champion_button.click()\n",
    "\n",
    "soup=BeautifulSoup(driver.page_source,'html.parser')"
   ]
  },
  {
   "cell_type": "code",
   "execution_count": null,
   "metadata": {
    "ExecuteTime": {
     "end_time": "2020-04-02T12:17:36.121759Z",
     "start_time": "2020-04-02T12:17:36.091770Z"
    }
   },
   "outputs": [],
   "source": [
    "health=[]\n",
    "health_per_lvl=[]\n",
    "health_regen=[]\n",
    "health_regen_per_lvl=[]\n",
    "ad=[]\n",
    "ad_per_lvl=[]\n",
    "armor=[]\n",
    "armor_per_lvl=[]\n",
    "mr=[]\n",
    "mr_per_lvl=[]\n",
    "attack_speed=[]\n",
    "ms=[]\n",
    "atk_range=[]\n",
    "top3_attrs=[]"
   ]
  },
  {
   "cell_type": "code",
   "execution_count": null,
   "metadata": {
    "ExecuteTime": {
     "end_time": "2020-04-02T12:18:07.311436Z",
     "start_time": "2020-04-02T12:18:07.303745Z"
    }
   },
   "outputs": [],
   "source": [
    "name = champion\n",
    "if ' ' in champion:\n",
    "    name=name.replace(' ','').replace('.','')\n",
    "elif champion=='Kled':\n",
    "    name='Kled1'\n",
    "elif champion in lst1:\n",
    "    name=name.replace(\"'\",'').capitalize()\n",
    "elif champion in lst2:\n",
    "    name=name.replace(\"'\",'')"
   ]
  },
  {
   "cell_type": "code",
   "execution_count": null,
   "metadata": {
    "ExecuteTime": {
     "end_time": "2020-04-02T12:18:10.702362Z",
     "start_time": "2020-04-02T12:18:10.674760Z"
    }
   },
   "outputs": [],
   "source": [
    "name"
   ]
  },
  {
   "cell_type": "code",
   "execution_count": null,
   "metadata": {
    "ExecuteTime": {
     "end_time": "2020-04-02T12:18:19.358066Z",
     "start_time": "2020-04-02T12:18:13.861239Z"
    }
   },
   "outputs": [],
   "source": [
    "\n",
    "health.append(soup.find('span',attrs={'id':\"Health_{}\".format(name)}).text)\n",
    "health_per_lvl.append(soup.find('span',attrs={'id':\"Health_{}_lvl\".format(name)}).text)\n",
    "health_regen.append(soup.find('span',attrs={'id':'HealthRegen_{}'.format(name)}).text)\n",
    "health_regen_per_lvl.append(soup.find('span',attrs={'id':'HealthRegen_{}_lvl'.format(name)}).text)\n",
    "\n",
    "ad.append(soup.find('span',attrs={'id':'AttackDamage_{}'.format(name)}).text)\n",
    "ad_per_lvl.append(soup.find('span',attrs={'id':'AttackDamage_{}_lvl'.format(name)}).text)\n",
    "\n",
    "armor.append(soup.find('span',attrs={'id':'Armor_{}'.format(name)}).text)\n",
    "armor_per_lvl.append(soup.find('span',attrs={'id':'Armor_{}_lvl'.format(name)}).text)\n",
    "\n",
    "mr.append(soup.find('span',attrs={'id':'MagicResist_{}'.format(name)}).text)\n",
    "mr_per_lvl.append(soup.find('span',attrs={'id':'MagicResist_{}_lvl'.format(name)}).text)\n",
    "\n",
    "attack_speed.append(soup.find('div',attrs={'data-source':'attack speed'}).text)\n",
    "\n",
    "ms.append(soup.find('span',attrs={'id':'MovementSpeed_{}'.format(name)}).text)\n",
    "\n",
    "atk_range.append(soup.find('span',attrs={'id':'AttackRange_{}'.format(name)}).text)\n",
    "\n",
    "driver.back()"
   ]
  },
  {
   "cell_type": "code",
   "execution_count": null,
   "metadata": {
    "ExecuteTime": {
     "end_time": "2020-04-02T12:18:25.066556Z",
     "start_time": "2020-04-02T12:18:25.052280Z"
    }
   },
   "outputs": [],
   "source": []
  },
  {
   "cell_type": "code",
   "execution_count": null,
   "metadata": {
    "ExecuteTime": {
     "end_time": "2020-04-01T22:08:25.906208Z",
     "start_time": "2020-04-01T22:08:25.899156Z"
    }
   },
   "outputs": [],
   "source": [
    "health"
   ]
  },
  {
   "cell_type": "code",
   "execution_count": null,
   "metadata": {},
   "outputs": [],
   "source": [
    "for champion in list_of_champs:\n",
    "    champion_button=driver.find_element_by_partial_link_text(champion)\n",
    "    champion_button.click()\n",
    "    \n",
    "    soup=BeautifulSoup(driver.page_source,'html.parser')"
   ]
  },
  {
   "cell_type": "code",
   "execution_count": null,
   "metadata": {},
   "outputs": [],
   "source": []
  },
  {
   "cell_type": "code",
   "execution_count": null,
   "metadata": {
    "ExecuteTime": {
     "end_time": "2020-04-01T12:08:35.062058Z",
     "start_time": "2020-04-01T12:08:26.335592Z"
    }
   },
   "outputs": [],
   "source": [
    "champion=driver.find_element_by_partial_link_text('Aatrox')\n",
    "champion.click()"
   ]
  },
  {
   "cell_type": "code",
   "execution_count": null,
   "metadata": {
    "ExecuteTime": {
     "end_time": "2020-04-01T11:18:01.119610Z",
     "start_time": "2020-04-01T11:18:00.548043Z"
    }
   },
   "outputs": [],
   "source": [
    "soup=BeautifulSoup(driver.page_source,'html.parser')"
   ]
  },
  {
   "cell_type": "code",
   "execution_count": null,
   "metadata": {
    "ExecuteTime": {
     "end_time": "2020-04-01T11:19:08.113784Z",
     "start_time": "2020-04-01T11:19:08.102577Z"
    }
   },
   "outputs": [],
   "source": [
    "soup.find('span',attrs={'id':'Health_Ahri'}).text"
   ]
  },
  {
   "cell_type": "code",
   "execution_count": null,
   "metadata": {
    "ExecuteTime": {
     "end_time": "2020-04-01T11:59:34.299198Z",
     "start_time": "2020-04-01T11:59:33.890454Z"
    }
   },
   "outputs": [],
   "source": [
    "url='https://leagueoflegends.fandom.com/wiki/Ahri'\n",
    "r=requests.get(url)\n",
    "soup=BeautifulSoup(r.text,'html.parser')"
   ]
  },
  {
   "cell_type": "code",
   "execution_count": null,
   "metadata": {},
   "outputs": [],
   "source": []
  }
 ],
 "metadata": {
  "kernelspec": {
   "display_name": "Python 3",
   "language": "python",
   "name": "python3"
  },
  "language_info": {
   "codemirror_mode": {
    "name": "ipython",
    "version": 3
   },
   "file_extension": ".py",
   "mimetype": "text/x-python",
   "name": "python",
   "nbconvert_exporter": "python",
   "pygments_lexer": "ipython3",
   "version": "3.7.4"
  },
  "toc": {
   "base_numbering": 1,
   "nav_menu": {},
   "number_sections": true,
   "sideBar": true,
   "skip_h1_title": false,
   "title_cell": "Table of Contents",
   "title_sidebar": "Contents",
   "toc_cell": false,
   "toc_position": {},
   "toc_section_display": true,
   "toc_window_display": false
  },
  "varInspector": {
   "cols": {
    "lenName": 16,
    "lenType": 16,
    "lenVar": 40
   },
   "kernels_config": {
    "python": {
     "delete_cmd_postfix": "",
     "delete_cmd_prefix": "del ",
     "library": "var_list.py",
     "varRefreshCmd": "print(var_dic_list())"
    },
    "r": {
     "delete_cmd_postfix": ") ",
     "delete_cmd_prefix": "rm(",
     "library": "var_list.r",
     "varRefreshCmd": "cat(var_dic_list()) "
    }
   },
   "types_to_exclude": [
    "module",
    "function",
    "builtin_function_or_method",
    "instance",
    "_Feature"
   ],
   "window_display": false
  }
 },
 "nbformat": 4,
 "nbformat_minor": 2
}
